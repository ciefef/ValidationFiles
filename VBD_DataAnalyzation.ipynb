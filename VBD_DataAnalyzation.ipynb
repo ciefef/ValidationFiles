{
 "cells": [
  {
   "cell_type": "markdown",
   "id": "af4a5cb2",
   "metadata": {},
   "source": [
    "# VBD Data Analyzation"
   ]
  },
  {
   "cell_type": "markdown",
   "id": "0f856f0e",
   "metadata": {},
   "source": [
    "By scanning the data from Elvidge’s, it contains a broad timeframe thus it was also filtered so make the timeframe only limited to the specified range.  Modified csv and kml files are the ouput of this jupyter notebook."
   ]
  },
  {
   "cell_type": "markdown",
   "id": "e336078a",
   "metadata": {},
   "source": [
    "References: \n",
    "    [Google Earth Icons](http://kml4earth.appspot.com/icons.html)"
   ]
  },
  {
   "cell_type": "markdown",
   "id": "56bbb7ad",
   "metadata": {},
   "source": [
    "### Required Libraries:\n",
    "- [pandas](https://sparkbyexamples.com/pandas/install-anaconda-run-pandas-jupyter-notebook/) \\\n",
    "&nbsp;&nbsp;conda install pandas\n",
    "- [simplekml](https://anaconda.org/conda-forge/simplekml) \\\n",
    "&nbsp;&nbsp; conda install -c conda-forge simplekml"
   ]
  },
  {
   "cell_type": "markdown",
   "id": "040e0f38",
   "metadata": {},
   "source": [
    "# Importing AIS Data"
   ]
  },
  {
   "cell_type": "code",
   "execution_count": 76,
   "id": "5bfc8ea9",
   "metadata": {},
   "outputs": [
    {
     "name": "stdout",
     "output_type": "stream",
     "text": [
      "      id                                             id_Key        Date_Proc  \\\n",
      "0      1  VBD_npp_d20220531_t0713526_x0971423W_y278277N_...  11/06/2022 2:16   \n",
      "1      2  VBD_npp_d20220531_t0713526_x0969799W_y278407N_...  11/06/2022 2:16   \n",
      "2      3  VBD_npp_d20220531_t0713526_x0969644W_y278330N_...  11/06/2022 2:16   \n",
      "3      4  VBD_npp_d20220531_t0713526_x0969006W_y278298N_...  11/06/2022 2:16   \n",
      "4      5  VBD_npp_d20220531_t0713526_x0968664W_y278625N_...  11/06/2022 2:16   \n",
      "...   ..                                                ...              ...   \n",
      "1302  10  VBD_npp_d20220531_t1034507_x1181296W_y305406N_...  11/06/2022 2:53   \n",
      "1303  11  VBD_npp_d20220531_t1034525_x1181317W_y305390N_...  11/06/2022 2:53   \n",
      "1304  12  VBD_npp_d20220531_t1035139_x1174712W_y290090N_...  11/06/2022 2:53   \n",
      "1305   9  VBD_npp_d20220531_t1036215_x1217881W_y259604N_...  11/06/2022 2:53   \n",
      "1306  10  VBD_npp_d20220531_t1036250_x1217189W_y256679N_...  11/06/2022 2:53   \n",
      "\n",
      "        Lat_DNB     Lon_DNB   Rad_DNB        Date_Mscan         Date_LTZ  \\\n",
      "0     27.827694  -97.142303  22.63280   31/05/2022 7:13  31/05/2022 1:13   \n",
      "1     27.840666  -96.979919   8.29632   31/05/2022 7:13  31/05/2022 1:13   \n",
      "2     27.832972  -96.964401   3.41033   31/05/2022 7:13  31/05/2022 1:13   \n",
      "3     27.829800  -96.900620  10.92490   31/05/2022 7:13  31/05/2022 1:13   \n",
      "4     27.862511  -96.866371   9.83894   31/05/2022 7:13  31/05/2022 1:13   \n",
      "...         ...         ...       ...               ...              ...   \n",
      "1302  30.540594 -118.129639   4.43969  31/05/2022 10:34  31/05/2022 2:34   \n",
      "1303  30.538961 -118.131729  11.01990  31/05/2022 10:34  31/05/2022 2:34   \n",
      "1304  29.008974 -117.471169  12.91680  31/05/2022 10:35  31/05/2022 2:35   \n",
      "1305  25.960392 -121.788078   1.03254  31/05/2022 10:36  31/05/2022 2:36   \n",
      "1306  25.667881 -121.718903   0.86827  31/05/2022 10:36  31/05/2022 2:36   \n",
      "\n",
      "      Line_DNB  Sample_DNB  ...                   File_RLV  \\\n",
      "0          607         145  ...  VBD_bridges_c20160811.shp   \n",
      "1          604         166  ...  VBD_bridges_c20160811.shp   \n",
      "2          605         168  ...  VBD_bridges_c20160811.shp   \n",
      "3          605         176  ...  VBD_bridges_c20160811.shp   \n",
      "4          600         180  ...  VBD_bridges_c20160811.shp   \n",
      "...        ...         ...  ...                        ...   \n",
      "1302        64        3777  ...  VBD_bridges_c20160811.shp   \n",
      "1303        65        3778  ...  VBD_bridges_c20160811.shp   \n",
      "1304       260        3938  ...  VBD_bridges_c20160811.shp   \n",
      "1305       101        3560  ...  VBD_bridges_c20160811.shp   \n",
      "1306       141        3582  ...  VBD_bridges_c20160811.shp   \n",
      "\n",
      "                                              Lat_Gring  \\\n",
      "0     31.768105;30.294672;26.969419;22.245819;25.303...   \n",
      "1     31.768105;30.294672;26.969419;22.245819;25.303...   \n",
      "2     31.768105;30.294672;26.969419;22.245819;25.303...   \n",
      "3     31.768105;30.294672;26.969419;22.245819;25.303...   \n",
      "4     31.768105;30.294672;26.969419;22.245819;25.303...   \n",
      "...                                                 ...   \n",
      "1302  35.288525;33.863693;30.316170;25.629381;28.880...   \n",
      "1303  35.288525;33.863693;30.316170;25.629381;28.880...   \n",
      "1304  35.288525;33.863693;30.316170;25.629381;28.880...   \n",
      "1305  30.370867;28.875517;25.632650;20.893667;23.881...   \n",
      "1306  30.370867;28.875517;25.632650;20.893667;23.881...   \n",
      "\n",
      "                                              Lon_Gring  \\\n",
      "0     -97.829010;-81.772377;-66.570000;-68.465942;-8...   \n",
      "1     -97.829010;-81.772377;-66.570000;-68.465942;-8...   \n",
      "2     -97.829010;-81.772377;-66.570000;-68.465942;-8...   \n",
      "3     -97.829010;-81.772377;-66.570000;-68.465942;-8...   \n",
      "4     -97.829010;-81.772377;-66.570000;-68.465942;-8...   \n",
      "...                                                 ...   \n",
      "1302  -148.243484;-131.502884;-115.806633;-117.87540...   \n",
      "1303  -148.243484;-131.502884;-115.806633;-117.87540...   \n",
      "1304  -148.243484;-131.502884;-115.806633;-117.87540...   \n",
      "1305  -148.737198;-132.909424;-117.884338;-119.71427...   \n",
      "1306  -148.737198;-132.909424;-117.884338;-119.71427...   \n",
      "\n",
      "                                              Gran_List  SOLZ_GDNBO  \\\n",
      "0     npp_d20220531_t0712465_e0714107_b54876;npp_d20...     128.937   \n",
      "1     npp_d20220531_t0712465_e0714107_b54876;npp_d20...     128.889   \n",
      "2     npp_d20220531_t0712465_e0714107_b54876;npp_d20...     128.893   \n",
      "3     npp_d20220531_t0712465_e0714107_b54876;npp_d20...     128.882   \n",
      "4     npp_d20220531_t0712465_e0714107_b54876;npp_d20...     128.843   \n",
      "...                                                 ...         ...   \n",
      "1302  npp_d20220531_t1031543_e1033185_b54878;npp_d20...     114.307   \n",
      "1303  npp_d20220531_t1031543_e1033185_b54878;npp_d20...     114.305   \n",
      "1304  npp_d20220531_t1031543_e1033185_b54878;npp_d20...     114.991   \n",
      "1305  npp_d20220531_t1031543_e1033185_b54878;npp_d20...     119.651   \n",
      "1306  npp_d20220531_t1031543_e1033185_b54878;npp_d20...     119.823   \n",
      "\n",
      "      SOLA_GDNBO  SATZ_GDNBO  SATA_GDNBO  LUNZ_GDNBO  LUNA_GDNBO  \n",
      "0        14.2420     67.9308     92.9768     127.536     2.76075  \n",
      "1        14.4275     67.5879     93.1436     127.516     2.94341  \n",
      "2        14.4470     67.5537     93.1203     127.523     2.96120  \n",
      "3        14.5215     67.4165     93.1499     127.524     3.03325  \n",
      "4        14.5545     67.3472     93.3189     127.490     3.07055  \n",
      "...          ...         ...         ...         ...         ...  \n",
      "1302     42.0502     65.2484    -72.0578     117.762    30.42270  \n",
      "1303     42.0549     65.2614    -72.5694     117.761    30.42760  \n",
      "1304     43.1218     67.9847    -72.3615     118.732    31.49570  \n",
      "1305     40.9383     60.9985    -75.0172     123.132    28.71100  \n",
      "1306     41.1172     61.4569    -74.7219     123.350    28.87890  \n",
      "\n",
      "[1307 rows x 50 columns]\n"
     ]
    }
   ],
   "source": [
    "#import libraries\n",
    "import pandas as pd\n",
    "ais_file = 'VBD_npp_d20220531_mex_noaa_ops_v23.csv'\n",
    "ais = pd.read_csv(ais_file )\n",
    "\n",
    "# Showing the first four rows\n",
    "print (ais)"
   ]
  },
  {
   "cell_type": "markdown",
   "id": "ecc3a56b",
   "metadata": {},
   "source": [
    "# Removing Unneeded Columns"
   ]
  },
  {
   "cell_type": "code",
   "execution_count": 84,
   "id": "41db6a06",
   "metadata": {},
   "outputs": [
    {
     "data": {
      "text/html": [
       "<div>\n",
       "<style scoped>\n",
       "    .dataframe tbody tr th:only-of-type {\n",
       "        vertical-align: middle;\n",
       "    }\n",
       "\n",
       "    .dataframe tbody tr th {\n",
       "        vertical-align: top;\n",
       "    }\n",
       "\n",
       "    .dataframe thead th {\n",
       "        text-align: right;\n",
       "    }\n",
       "</style>\n",
       "<table border=\"1\" class=\"dataframe\">\n",
       "  <thead>\n",
       "    <tr style=\"text-align: right;\">\n",
       "      <th></th>\n",
       "      <th>id_Key</th>\n",
       "      <th>Date_Proc</th>\n",
       "      <th>Lat_DNB</th>\n",
       "      <th>Lon_DNB</th>\n",
       "      <th>Rad_DNB</th>\n",
       "      <th>Date_Mscan</th>\n",
       "      <th>QF_Detect</th>\n",
       "    </tr>\n",
       "  </thead>\n",
       "  <tbody>\n",
       "    <tr>\n",
       "      <th>0</th>\n",
       "      <td>VBD_npp_d20220531_t0713526_x0971423W_y278277N_...</td>\n",
       "      <td>11/06/2022 2:16</td>\n",
       "      <td>27.827694</td>\n",
       "      <td>-97.142303</td>\n",
       "      <td>22.63280</td>\n",
       "      <td>31/05/2022 7:13</td>\n",
       "      <td>1</td>\n",
       "    </tr>\n",
       "    <tr>\n",
       "      <th>1</th>\n",
       "      <td>VBD_npp_d20220531_t0713526_x0969799W_y278407N_...</td>\n",
       "      <td>11/06/2022 2:16</td>\n",
       "      <td>27.840666</td>\n",
       "      <td>-96.979919</td>\n",
       "      <td>8.29632</td>\n",
       "      <td>31/05/2022 7:13</td>\n",
       "      <td>1</td>\n",
       "    </tr>\n",
       "  </tbody>\n",
       "</table>\n",
       "</div>"
      ],
      "text/plain": [
       "                                              id_Key        Date_Proc  \\\n",
       "0  VBD_npp_d20220531_t0713526_x0971423W_y278277N_...  11/06/2022 2:16   \n",
       "1  VBD_npp_d20220531_t0713526_x0969799W_y278407N_...  11/06/2022 2:16   \n",
       "\n",
       "     Lat_DNB    Lon_DNB   Rad_DNB       Date_Mscan  QF_Detect  \n",
       "0  27.827694 -97.142303  22.63280  31/05/2022 7:13          1  \n",
       "1  27.840666 -96.979919   8.29632  31/05/2022 7:13          1  "
      ]
     },
     "execution_count": 84,
     "metadata": {},
     "output_type": "execute_result"
    }
   ],
   "source": [
    "# Specify the columns to delete\n",
    "cols = list(ais.columns.values)\n",
    "ais_new = ais[cols[1:7]+ cols [11:12]]\n",
    "\n",
    "# Show new data\n",
    "ais_new.head(2)"
   ]
  },
  {
   "cell_type": "markdown",
   "id": "92151fe9",
   "metadata": {},
   "source": [
    "# Delete NaN rows"
   ]
  },
  {
   "cell_type": "code",
   "execution_count": 85,
   "id": "3e14a4b7",
   "metadata": {
    "scrolled": true
   },
   "outputs": [
    {
     "name": "stdout",
     "output_type": "stream",
     "text": [
      "                                                 id_Key        Date_Proc  \\\n",
      "0     VBD_npp_d20220531_t0713526_x0971423W_y278277N_...  11/06/2022 2:16   \n",
      "1     VBD_npp_d20220531_t0713526_x0969799W_y278407N_...  11/06/2022 2:16   \n",
      "2     VBD_npp_d20220531_t0713526_x0969644W_y278330N_...  11/06/2022 2:16   \n",
      "3     VBD_npp_d20220531_t0713526_x0969006W_y278298N_...  11/06/2022 2:16   \n",
      "4     VBD_npp_d20220531_t0713526_x0968664W_y278625N_...  11/06/2022 2:16   \n",
      "...                                                 ...              ...   \n",
      "1302  VBD_npp_d20220531_t1034507_x1181296W_y305406N_...  11/06/2022 2:53   \n",
      "1303  VBD_npp_d20220531_t1034525_x1181317W_y305390N_...  11/06/2022 2:53   \n",
      "1304  VBD_npp_d20220531_t1035139_x1174712W_y290090N_...  11/06/2022 2:53   \n",
      "1305  VBD_npp_d20220531_t1036215_x1217881W_y259604N_...  11/06/2022 2:53   \n",
      "1306  VBD_npp_d20220531_t1036250_x1217189W_y256679N_...  11/06/2022 2:53   \n",
      "\n",
      "        Lat_DNB     Lon_DNB   Rad_DNB        Date_Mscan  QF_Detect  \n",
      "0     27.827694  -97.142303  22.63280   31/05/2022 7:13          1  \n",
      "1     27.840666  -96.979919   8.29632   31/05/2022 7:13          1  \n",
      "2     27.832972  -96.964401   3.41033   31/05/2022 7:13          2  \n",
      "3     27.829800  -96.900620  10.92490   31/05/2022 7:13          1  \n",
      "4     27.862511  -96.866371   9.83894   31/05/2022 7:13          1  \n",
      "...         ...         ...       ...               ...        ...  \n",
      "1302  30.540594 -118.129639   4.43969  31/05/2022 10:34          1  \n",
      "1303  30.538961 -118.131729  11.01990  31/05/2022 10:34          1  \n",
      "1304  29.008974 -117.471169  12.91680  31/05/2022 10:35          1  \n",
      "1305  25.960392 -121.788078   1.03254  31/05/2022 10:36          1  \n",
      "1306  25.667881 -121.718903   0.86827  31/05/2022 10:36          3  \n",
      "\n",
      "[1307 rows x 7 columns]\n"
     ]
    }
   ],
   "source": [
    "# Delete the NaN row so the time frame filtration will work properly\n",
    "ais_new = ais_new.iloc[0:1307]\n",
    "\n",
    "#Show new data\n",
    "print (ais_new)"
   ]
  },
  {
   "cell_type": "markdown",
   "id": "cfe4a3d6",
   "metadata": {},
   "source": [
    "# Filtering the time stamps"
   ]
  },
  {
   "cell_type": "code",
   "execution_count": 86,
   "id": "c0cfee69",
   "metadata": {},
   "outputs": [
    {
     "name": "stdout",
     "output_type": "stream",
     "text": [
      "                                                id_Key        Date_Proc  \\\n",
      "0    VBD_npp_d20220531_t0713526_x0971423W_y278277N_...  11/06/2022 2:16   \n",
      "1    VBD_npp_d20220531_t0713526_x0969799W_y278407N_...  11/06/2022 2:16   \n",
      "2    VBD_npp_d20220531_t0713526_x0969644W_y278330N_...  11/06/2022 2:16   \n",
      "3    VBD_npp_d20220531_t0713526_x0969006W_y278298N_...  11/06/2022 2:16   \n",
      "4    VBD_npp_d20220531_t0713526_x0968664W_y278625N_...  11/06/2022 2:16   \n",
      "..                                                 ...              ...   \n",
      "773  VBD_npp_d20220531_t0713081_x0851436W_y294658N_...  11/06/2022 2:16   \n",
      "774  VBD_npp_d20220531_t0713081_x0851381W_y294512N_...  11/06/2022 2:16   \n",
      "775  VBD_npp_d20220531_t0713064_x0850855W_y295245N_...  11/06/2022 2:16   \n",
      "776  VBD_npp_d20220531_t0713081_x0850827W_y294025N_...  11/06/2022 2:16   \n",
      "777  VBD_npp_d20220531_t0713046_x0849386W_y295987N_...  11/06/2022 2:16   \n",
      "\n",
      "       Lat_DNB    Lon_DNB    Rad_DNB       Date_Mscan  QF_Detect  \n",
      "0    27.827694 -97.142303  22.632800  31/05/2022 7:13          1  \n",
      "1    27.840666 -96.979919   8.296320  31/05/2022 7:13          1  \n",
      "2    27.832972 -96.964401   3.410330  31/05/2022 7:13          2  \n",
      "3    27.829800 -96.900620  10.924900  31/05/2022 7:13          1  \n",
      "4    27.862511 -96.866371   9.838940  31/05/2022 7:13          1  \n",
      "..         ...        ...        ...              ...        ...  \n",
      "773  29.465763 -85.143578   2.691310  31/05/2022 7:13          1  \n",
      "774  29.451212 -85.138100   0.664688  31/05/2022 7:13          2  \n",
      "775  29.524496 -85.085548   1.973010  31/05/2022 7:13          1  \n",
      "776  29.402462 -85.082741   1.665410  31/05/2022 7:13          1  \n",
      "777  29.598742 -84.938622   1.993010  31/05/2022 7:13          1  \n",
      "\n",
      "[778 rows x 7 columns]\n"
     ]
    }
   ],
   "source": [
    "# Importing Regex Expression\n",
    "import re\n",
    "\n",
    "# Specify the needed time frame\n",
    "# timeframe = '07:12|07:13|07:14|07:15|07:16|07:17|07:18'\n",
    "timeframe = '7'\n",
    "ais_new = ais_new.loc[ais_new['Date_Mscan'].str.contains('7:13', regex = True)]\n",
    "\n",
    "# Reset old indeces\n",
    "ais_new = ais_new.reset_index(drop = True)\n",
    "\n",
    "#Show new data\n",
    "print (ais_new)"
   ]
  },
  {
   "cell_type": "markdown",
   "id": "fcee5d8c",
   "metadata": {},
   "source": [
    "# Filtering the Quality Flag for 1"
   ]
  },
  {
   "cell_type": "code",
   "execution_count": 87,
   "id": "6da9ff3b",
   "metadata": {},
   "outputs": [
    {
     "name": "stdout",
     "output_type": "stream",
     "text": [
      "                                                id_Key        Date_Proc  \\\n",
      "0    VBD_npp_d20220531_t0713526_x0971423W_y278277N_...  11/06/2022 2:16   \n",
      "1    VBD_npp_d20220531_t0713526_x0969799W_y278407N_...  11/06/2022 2:16   \n",
      "2    VBD_npp_d20220531_t0713526_x0969006W_y278298N_...  11/06/2022 2:16   \n",
      "3    VBD_npp_d20220531_t0713526_x0968664W_y278625N_...  11/06/2022 2:16   \n",
      "4    VBD_npp_d20220531_t0713526_x0967494W_y278495N_...  11/06/2022 2:16   \n",
      "..                                                 ...              ...   \n",
      "380  VBD_npp_d20220531_t0713064_x0851624W_y295900N_...  11/06/2022 2:16   \n",
      "381  VBD_npp_d20220531_t0713081_x0851436W_y294658N_...  11/06/2022 2:16   \n",
      "382  VBD_npp_d20220531_t0713064_x0850855W_y295245N_...  11/06/2022 2:16   \n",
      "383  VBD_npp_d20220531_t0713081_x0850827W_y294025N_...  11/06/2022 2:16   \n",
      "384  VBD_npp_d20220531_t0713046_x0849386W_y295987N_...  11/06/2022 2:16   \n",
      "\n",
      "       Lat_DNB    Lon_DNB   Rad_DNB       Date_Mscan  QF_Detect  \n",
      "0    27.827694 -97.142303  22.63280  31/05/2022 7:13          1  \n",
      "1    27.840666 -96.979919   8.29632  31/05/2022 7:13          1  \n",
      "2    27.829800 -96.900620  10.92490  31/05/2022 7:13          1  \n",
      "3    27.862511 -96.866371   9.83894  31/05/2022 7:13          1  \n",
      "4    27.849524 -96.749359   7.12383  31/05/2022 7:13          1  \n",
      "..         ...        ...       ...              ...        ...  \n",
      "380  29.590038 -85.162399   2.20223  31/05/2022 7:13          1  \n",
      "381  29.465763 -85.143578   2.69131  31/05/2022 7:13          1  \n",
      "382  29.524496 -85.085548   1.97301  31/05/2022 7:13          1  \n",
      "383  29.402462 -85.082741   1.66541  31/05/2022 7:13          1  \n",
      "384  29.598742 -84.938622   1.99301  31/05/2022 7:13          1  \n",
      "\n",
      "[385 rows x 7 columns]\n"
     ]
    }
   ],
   "source": [
    "# Importing Regex Expression\n",
    "import re\n",
    "\n",
    "# Specify the needed time frame\n",
    "QF = 1\n",
    "ais_new = ais_new.loc[ais_new['QF_Detect']== QF]\n",
    "\n",
    "# Reset old indeces\n",
    "ais_new = ais_new.reset_index(drop = True)\n",
    "\n",
    "#Show new data\n",
    "print (ais_new)"
   ]
  },
  {
   "cell_type": "markdown",
   "id": "fec65c92",
   "metadata": {},
   "source": [
    "# Saving modified csv"
   ]
  },
  {
   "cell_type": "code",
   "execution_count": 88,
   "id": "e2636114",
   "metadata": {},
   "outputs": [
    {
     "name": "stdout",
     "output_type": "stream",
     "text": [
      "                                              id_Key        Date_Proc  \\\n",
      "0  VBD_npp_d20220531_t0713526_x0971423W_y278277N_...  11/06/2022 2:16   \n",
      "1  VBD_npp_d20220531_t0713526_x0969799W_y278407N_...  11/06/2022 2:16   \n",
      "2  VBD_npp_d20220531_t0713526_x0969006W_y278298N_...  11/06/2022 2:16   \n",
      "3  VBD_npp_d20220531_t0713526_x0968664W_y278625N_...  11/06/2022 2:16   \n",
      "4  VBD_npp_d20220531_t0713526_x0967494W_y278495N_...  11/06/2022 2:16   \n",
      "\n",
      "     Lat_DNB    Lon_DNB   Rad_DNB       Date_Mscan  QF_Detect  \n",
      "0  27.827694 -97.142303  22.63280  31/05/2022 7:13          1  \n",
      "1  27.840666 -96.979919   8.29632  31/05/2022 7:13          1  \n",
      "2  27.829800 -96.900620  10.92490  31/05/2022 7:13          1  \n",
      "3  27.862511 -96.866371   9.83894  31/05/2022 7:13          1  \n",
      "4  27.849524 -96.749359   7.12383  31/05/2022 7:13          1  \n"
     ]
    }
   ],
   "source": [
    "# Don't include the indeces\n",
    "newfile = 'Modified_VBD.csv'\n",
    "ais_new.to_csv(newfile, index=False)\n",
    "\n",
    "print(ais_new.head())"
   ]
  },
  {
   "cell_type": "markdown",
   "id": "5b4d691e",
   "metadata": {},
   "source": [
    "# Converting to KML"
   ]
  },
  {
   "cell_type": "code",
   "execution_count": 92,
   "id": "975e6cad",
   "metadata": {},
   "outputs": [],
   "source": [
    "import pandas as pd\n",
    "import  simplekml\n",
    "\n",
    "ais_new = pd.read_csv(newfile)\n",
    "\n",
    "longitudes = ais_new['Lon_DNB']\n",
    "latitudes = ais_new['Lat_DNB']\n",
    "\n",
    "locations = pd.DataFrame({'longitudes':longitudes,\n",
    "                        'latitudes':latitudes})\n",
    "\n",
    "points_kml = simplekml.Kml()\n",
    "for i in locations.itertuples():\n",
    "    # Create points\n",
    "    pt = points_kml.newpoint(coords=[(i.longitudes, i.latitudes)], description = (\"The coordinates is\", i.latitudes, i.longitudes))\n",
    "    \n",
    "    # Change the icon to anchor\n",
    "    pt.style.iconstyle.icon.href = 'http://maps.google.com/mapfiles/kml/shapes/sailing.png'\n",
    "    \n",
    "    # Sets the color to cyan\n",
    "    pt.style.iconstyle.color ='ffffff00' #\n",
    "\n",
    "# Save the KML    \n",
    "points_kml_path = 'Modified_VBD.kml'\n",
    "points_kml.save(points_kml_path)\n",
    "\n",
    "# Open in google earth\n",
    "# subprocess.call(['open', points_kml_path])"
   ]
  },
  {
   "cell_type": "code",
   "execution_count": null,
   "id": "d17f9795",
   "metadata": {},
   "outputs": [],
   "source": []
  }
 ],
 "metadata": {
  "kernelspec": {
   "display_name": "Python 3 (ipykernel)",
   "language": "python",
   "name": "python3"
  },
  "language_info": {
   "codemirror_mode": {
    "name": "ipython",
    "version": 3
   },
   "file_extension": ".py",
   "mimetype": "text/x-python",
   "name": "python",
   "nbconvert_exporter": "python",
   "pygments_lexer": "ipython3",
   "version": "3.9.12"
  }
 },
 "nbformat": 4,
 "nbformat_minor": 5
}
