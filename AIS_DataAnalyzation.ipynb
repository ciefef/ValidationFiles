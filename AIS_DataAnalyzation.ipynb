{
 "cells": [
  {
   "cell_type": "markdown",
   "id": "af4a5cb2",
   "metadata": {},
   "source": [
    "# AIS Data Analyzation VT"
   ]
  },
  {
   "cell_type": "markdown",
   "id": "d2d256e8",
   "metadata": {},
   "source": [
    "This file filters the detected vessels into a specific timeframe which in this study is local time 00:12 to 00:18.  From the filtered timeframe, the data were furthermore refined to a vessel type code 20 to 89, excluding code 38 and 39. Modified csv and kml files are the ouput of this jupyter notebook."
   ]
  },
  {
   "cell_type": "markdown",
   "id": "e336078a",
   "metadata": {},
   "source": [
    "References: \n",
    "    [Google Earth Icons](http://kml4earth.appspot.com/icons.html)"
   ]
  },
  {
   "cell_type": "markdown",
   "id": "56bbb7ad",
   "metadata": {},
   "source": [
    "### Required Libraries:\n",
    "- [pandas](https://sparkbyexamples.com/pandas/install-anaconda-run-pandas-jupyter-notebook/) \\\n",
    "&nbsp;&nbsp;conda install pandas\n",
    "- [simplekml](https://anaconda.org/conda-forge/simplekml) \\\n",
    "&nbsp;&nbsp; conda install -c conda-forge simplekml"
   ]
  },
  {
   "cell_type": "markdown",
   "id": "040e0f38",
   "metadata": {},
   "source": [
    "# Importing AIS Data"
   ]
  },
  {
   "cell_type": "code",
   "execution_count": 1,
   "id": "5bfc8ea9",
   "metadata": {},
   "outputs": [
    {
     "name": "stdout",
     "output_type": "stream",
     "text": [
      "              MMSI         BaseDateTime       LAT       LON   SOG    COG  \\\n",
      "0        368090830  2022-05-30T00:00:00  27.81135 -97.37035   0.3  314.6   \n",
      "1        366921420  2022-05-30T00:00:00  30.02172 -93.98697   0.0  273.2   \n",
      "2        368242770  2022-05-30T00:00:00  29.46587 -94.96262   0.0  359.5   \n",
      "3        367467980  2022-05-30T00:00:00  29.07525 -89.16497   0.0  239.6   \n",
      "4        368061080  2022-05-30T00:00:00  29.56997 -92.30155  12.2  189.6   \n",
      "...            ...                  ...       ...       ...   ...    ...   \n",
      "2730558  367119810  2022-05-30T23:59:59  29.35931 -94.78136  10.1  194.8   \n",
      "2730559  367663440  2022-05-30T23:59:59  30.47458 -91.19985   0.0  340.5   \n",
      "2730560  355109000  2022-05-30T23:59:59  29.67196 -89.95979  14.6  169.4   \n",
      "2730561  367611430  2022-05-30T23:59:59  29.41347 -94.86830   0.0  239.1   \n",
      "2730562  367589350  2022-05-30T23:59:59  27.84676 -97.22466   0.0   30.0   \n",
      "\n",
      "         Heading        VesselName         IMO CallSign  VesselType  Status  \\\n",
      "0          511.0  ELIANA M_GONDRAN  IMO0000157  WDK8100        52.0     0.0   \n",
      "1          511.0    HUGH S MONSTED  IMO8992132  WDB6286        31.0    12.0   \n",
      "2           14.0      EMILIE REECE         NaN  WDM8380        52.0     0.0   \n",
      "3          511.0         MISS LUCY         NaN  WDF5860        31.0    12.0   \n",
      "4          187.0        JUDITH ANN  IMO9852614  WDK5040        69.0     0.0   \n",
      "...          ...               ...         ...      ...         ...     ...   \n",
      "2730558    511.0   ROBERT C LANIER  IMO8643224  WAT3621        60.0     0.0   \n",
      "2730559      5.0           L AVERY         NaN  WDH8978        31.0     0.0   \n",
      "2730560    170.0           JIMMY T  IMO9782118     H3PT        70.0     0.0   \n",
      "2730561    511.0            ROSLYN         NaN  WDH3835        31.0    12.0   \n",
      "2730562     49.0    SIGNET POLARIS  IMO9681778  WDG9593        31.0     0.0   \n",
      "\n",
      "         Length  Width  Draft  Cargo TransceiverClass  \n",
      "0          21.0    8.0    2.8   52.0                A  \n",
      "1          25.0    9.0    NaN   57.0                A  \n",
      "2          26.0   10.0    3.5   57.0                A  \n",
      "3          13.0    4.0    NaN   31.0                A  \n",
      "4          20.0   10.0    2.2   38.0                A  \n",
      "...         ...    ...    ...    ...              ...  \n",
      "2730558    72.0   19.0    NaN    5.0                A  \n",
      "2730559    25.0    NaN    NaN   57.0                A  \n",
      "2730560     NaN    NaN    NaN   70.0                A  \n",
      "2730561    20.0    6.0    NaN   52.0                A  \n",
      "2730562    32.0   11.0    5.9   52.0                A  \n",
      "\n",
      "[2730563 rows x 17 columns]\n"
     ]
    }
   ],
   "source": [
    "#import libraries\n",
    "import pandas as pd\n",
    "ais_file = 'Gulf_Mexico_AIS_05_31_2022.csv'\n",
    "ais = pd.read_csv(ais_file)\n",
    "\n",
    "# Showing the first four rows\n",
    "print (ais)"
   ]
  },
  {
   "cell_type": "markdown",
   "id": "08195075",
   "metadata": {},
   "source": [
    "# Removing unneeded columns"
   ]
  },
  {
   "cell_type": "code",
   "execution_count": 19,
   "id": "e1b6b0b0",
   "metadata": {},
   "outputs": [
    {
     "data": {
      "text/html": [
       "<div>\n",
       "<style scoped>\n",
       "    .dataframe tbody tr th:only-of-type {\n",
       "        vertical-align: middle;\n",
       "    }\n",
       "\n",
       "    .dataframe tbody tr th {\n",
       "        vertical-align: top;\n",
       "    }\n",
       "\n",
       "    .dataframe thead th {\n",
       "        text-align: right;\n",
       "    }\n",
       "</style>\n",
       "<table border=\"1\" class=\"dataframe\">\n",
       "  <thead>\n",
       "    <tr style=\"text-align: right;\">\n",
       "      <th></th>\n",
       "      <th>MMSI</th>\n",
       "      <th>BaseDateTime</th>\n",
       "      <th>LAT</th>\n",
       "      <th>LON</th>\n",
       "      <th>VesselName</th>\n",
       "      <th>IMO</th>\n",
       "      <th>CallSign</th>\n",
       "      <th>VesselType</th>\n",
       "    </tr>\n",
       "  </thead>\n",
       "  <tbody>\n",
       "    <tr>\n",
       "      <th>0</th>\n",
       "      <td>368090830</td>\n",
       "      <td>2022-05-30T00:00:00</td>\n",
       "      <td>27.81135</td>\n",
       "      <td>-97.37035</td>\n",
       "      <td>ELIANA M_GONDRAN</td>\n",
       "      <td>IMO0000157</td>\n",
       "      <td>WDK8100</td>\n",
       "      <td>52.0</td>\n",
       "    </tr>\n",
       "    <tr>\n",
       "      <th>1</th>\n",
       "      <td>366921420</td>\n",
       "      <td>2022-05-30T00:00:00</td>\n",
       "      <td>30.02172</td>\n",
       "      <td>-93.98697</td>\n",
       "      <td>HUGH S MONSTED</td>\n",
       "      <td>IMO8992132</td>\n",
       "      <td>WDB6286</td>\n",
       "      <td>31.0</td>\n",
       "    </tr>\n",
       "  </tbody>\n",
       "</table>\n",
       "</div>"
      ],
      "text/plain": [
       "        MMSI         BaseDateTime       LAT       LON        VesselName  \\\n",
       "0  368090830  2022-05-30T00:00:00  27.81135 -97.37035  ELIANA M_GONDRAN   \n",
       "1  366921420  2022-05-30T00:00:00  30.02172 -93.98697    HUGH S MONSTED   \n",
       "\n",
       "          IMO CallSign  VesselType  \n",
       "0  IMO0000157  WDK8100        52.0  \n",
       "1  IMO8992132  WDB6286        31.0  "
      ]
     },
     "execution_count": 19,
     "metadata": {},
     "output_type": "execute_result"
    }
   ],
   "source": [
    "cols = list(ais.columns.values)\n",
    "# ais_new = ais[cols[0:4] + cols [7:10] +[cols [-1]]]\n",
    "# ais_new = ais[cols[0:4] + cols [7:11]]\n",
    "ais_new  = ais[['MMSI', 'BaseDateTime','LAT', 'LON', 'VesselName','IMO', 'CallSign', 'VesselType']]\n",
    "\n",
    "ais_new.head(2)"
   ]
  },
  {
   "cell_type": "markdown",
   "id": "cfe4a3d6",
   "metadata": {},
   "source": [
    "# Filtering the time stamps"
   ]
  },
  {
   "cell_type": "code",
   "execution_count": 20,
   "id": "c0cfee69",
   "metadata": {},
   "outputs": [
    {
     "name": "stdout",
     "output_type": "stream",
     "text": [
      "            MMSI         BaseDateTime       LAT       LON       VesselName  \\\n",
      "0      367682480  2022-05-30T00:12:00  29.31612 -89.08567       ERIC HUYNH   \n",
      "1      367716330  2022-05-30T00:12:00  29.94073 -90.17231       MARDI GRAS   \n",
      "2      368256040  2022-05-30T00:12:00  29.93651 -90.33576       JACK ESTES   \n",
      "3      366995360  2022-05-30T00:12:00  30.37324 -91.23811        UNCLE BUD   \n",
      "4      367471780  2022-05-30T00:12:00  29.34629 -89.11212   PRINCESS KELLY   \n",
      "...          ...                  ...       ...       ...              ...   \n",
      "13325  636021532  2022-05-30T00:18:59  29.87570 -89.94258          BUFFALO   \n",
      "13326  367384020  2022-05-30T00:18:59  29.50049 -94.55599  BLESSED TRINITY   \n",
      "13327  367672720  2022-05-30T00:18:59  29.61333 -92.00452        KRAEMER T   \n",
      "13328  367744140  2022-05-30T00:18:59  29.95271 -90.22881          ROBIN R   \n",
      "13329  367435670  2022-05-30T00:18:59  30.03606 -93.33058  LORETTA B MORAN   \n",
      "\n",
      "              IMO CallSign  VesselType  \n",
      "0      IMO8961286  WDI2859        30.0  \n",
      "1             NaN  WDI6209        31.0  \n",
      "2      IMO1323487  WDM9802        52.0  \n",
      "3             NaN  WDC2592        31.0  \n",
      "4      IMO8969965  WDF6207        30.0  \n",
      "...           ...      ...         ...  \n",
      "13325  IMO9583160    5LEJ9        70.0  \n",
      "13326         NaN  WDE6725        31.0  \n",
      "13327         NaN  WDH9902        60.0  \n",
      "13328         NaN  WDI8986        31.0  \n",
      "13329  IMO9415806  WDF3084        31.0  \n",
      "\n",
      "[13330 rows x 8 columns]\n"
     ]
    }
   ],
   "source": [
    "# Importing Regex Expression\n",
    "import re\n",
    "\n",
    "# Specify the needed time frame\n",
    "timeframe = 'T00:12|T00:13|T00:14|T00:15|T00:16|T00:17:|T00:18:'\n",
    "# timeframe = 'T00:12'\n",
    "ais_new = ais_new.loc[ais_new['BaseDateTime'].str.contains(timeframe, regex = True)]\n",
    "\n",
    "# Reset old indeces\n",
    "ais_new = ais_new.reset_index(drop = True)\n",
    "\n",
    "#Show new data\n",
    "print(ais_new)"
   ]
  },
  {
   "cell_type": "markdown",
   "id": "f78ff943",
   "metadata": {},
   "source": [
    "# Filtering Vessel Type"
   ]
  },
  {
   "cell_type": "code",
   "execution_count": 24,
   "id": "d389a1ce",
   "metadata": {},
   "outputs": [
    {
     "name": "stdout",
     "output_type": "stream",
     "text": [
      "            MMSI         BaseDateTime       LAT       LON       VesselName  \\\n",
      "0      367682480  2022-05-30T00:12:00  29.31612 -89.08567       ERIC HUYNH   \n",
      "1      367716330  2022-05-30T00:12:00  29.94073 -90.17231       MARDI GRAS   \n",
      "2      368256040  2022-05-30T00:12:00  29.93651 -90.33576       JACK ESTES   \n",
      "3      366995360  2022-05-30T00:12:00  30.37324 -91.23811        UNCLE BUD   \n",
      "4      367471780  2022-05-30T00:12:00  29.34629 -89.11212   PRINCESS KELLY   \n",
      "...          ...                  ...       ...       ...              ...   \n",
      "12068  636021532  2022-05-30T00:18:59  29.87570 -89.94258          BUFFALO   \n",
      "12069  367384020  2022-05-30T00:18:59  29.50049 -94.55599  BLESSED TRINITY   \n",
      "12070  367672720  2022-05-30T00:18:59  29.61333 -92.00452        KRAEMER T   \n",
      "12071  367744140  2022-05-30T00:18:59  29.95271 -90.22881          ROBIN R   \n",
      "12072  367435670  2022-05-30T00:18:59  30.03606 -93.33058  LORETTA B MORAN   \n",
      "\n",
      "              IMO CallSign  VesselType  \n",
      "0      IMO8961286  WDI2859        30.0  \n",
      "1             NaN  WDI6209        31.0  \n",
      "2      IMO1323487  WDM9802        52.0  \n",
      "3             NaN  WDC2592        31.0  \n",
      "4      IMO8969965  WDF6207        30.0  \n",
      "...           ...      ...         ...  \n",
      "12068  IMO9583160    5LEJ9        70.0  \n",
      "12069         NaN  WDE6725        31.0  \n",
      "12070         NaN  WDH9902        60.0  \n",
      "12071         NaN  WDI8986        31.0  \n",
      "12072  IMO9415806  WDF3084        31.0  \n",
      "\n",
      "[12073 rows x 8 columns]\n",
      "0        False\n",
      "1        False\n",
      "2        False\n",
      "3        False\n",
      "4        False\n",
      "         ...  \n",
      "12068    False\n",
      "12069    False\n",
      "12070    False\n",
      "12071    False\n",
      "12072    False\n",
      "Name: VesselType, Length: 12073, dtype: bool\n"
     ]
    }
   ],
   "source": [
    "# Importing Regex Expression\n",
    "import re\n",
    "\n",
    "# Specify the Vessel Type\n",
    "# VesselType 30 is fishing boat\n",
    "# ais_new = ais_new.loc[(ais_new['VesselType']== 30)| (ais_new['VesselType']== 52)]\n",
    "# \n",
    "ais_new = ais_new.loc[(ais_new['VesselType'] > 20) & (ais_new['VesselType'] < 89)]\n",
    "ais_new = ais_new[ais_new.VesselType != 38]\n",
    "ais_new = ais_new[ais_new.VesselType != 39]\n",
    "\n",
    "# Reset old indeces\n",
    "ais_new = ais_new.reset_index(drop = True)\n",
    "\n",
    "#Show new data\n",
    "print (ais_new)\n",
    "print (ais_new['VesselType']==39)"
   ]
  },
  {
   "cell_type": "markdown",
   "id": "fec65c92",
   "metadata": {},
   "source": [
    "# Saving modified csv"
   ]
  },
  {
   "cell_type": "code",
   "execution_count": 27,
   "id": "e2636114",
   "metadata": {
    "scrolled": false
   },
   "outputs": [
    {
     "name": "stdout",
     "output_type": "stream",
     "text": [
      "            MMSI         BaseDateTime       LAT       LON       VesselName  \\\n",
      "0      367682480  2022-05-30T00:12:00  29.31612 -89.08567       ERIC HUYNH   \n",
      "1      367716330  2022-05-30T00:12:00  29.94073 -90.17231       MARDI GRAS   \n",
      "2      368256040  2022-05-30T00:12:00  29.93651 -90.33576       JACK ESTES   \n",
      "3      366995360  2022-05-30T00:12:00  30.37324 -91.23811        UNCLE BUD   \n",
      "4      367471780  2022-05-30T00:12:00  29.34629 -89.11212   PRINCESS KELLY   \n",
      "...          ...                  ...       ...       ...              ...   \n",
      "12068  636021532  2022-05-30T00:18:59  29.87570 -89.94258          BUFFALO   \n",
      "12069  367384020  2022-05-30T00:18:59  29.50049 -94.55599  BLESSED TRINITY   \n",
      "12070  367672720  2022-05-30T00:18:59  29.61333 -92.00452        KRAEMER T   \n",
      "12071  367744140  2022-05-30T00:18:59  29.95271 -90.22881          ROBIN R   \n",
      "12072  367435670  2022-05-30T00:18:59  30.03606 -93.33058  LORETTA B MORAN   \n",
      "\n",
      "              IMO CallSign  VesselType  \n",
      "0      IMO8961286  WDI2859        30.0  \n",
      "1             NaN  WDI6209        31.0  \n",
      "2      IMO1323487  WDM9802        52.0  \n",
      "3             NaN  WDC2592        31.0  \n",
      "4      IMO8969965  WDF6207        30.0  \n",
      "...           ...      ...         ...  \n",
      "12068  IMO9583160    5LEJ9        70.0  \n",
      "12069         NaN  WDE6725        31.0  \n",
      "12070         NaN  WDH9902        60.0  \n",
      "12071         NaN  WDI8986        31.0  \n",
      "12072  IMO9415806  WDF3084        31.0  \n",
      "\n",
      "[12073 rows x 8 columns]\n"
     ]
    }
   ],
   "source": [
    "# Don't include the indeces\n",
    "newfile = 'Modified_AIS-MultipleVT.csv'\n",
    "ais_new.to_csv(newfile, index=False)\n",
    "\n",
    "print(ais_new)"
   ]
  },
  {
   "cell_type": "markdown",
   "id": "5b4d691e",
   "metadata": {},
   "source": [
    "# Converting to KML"
   ]
  },
  {
   "cell_type": "code",
   "execution_count": 79,
   "id": "975e6cad",
   "metadata": {},
   "outputs": [],
   "source": [
    "import pandas as pd\n",
    "import  simplekml\n",
    "\n",
    "ais_new = pd.read_csv(newfile)\n",
    "\n",
    "# names = ais_new['VesselName']\n",
    "longitudes = ais_new['LON']\n",
    "latitudes = ais_new['LAT']\n",
    "\n",
    "locations = pd.DataFrame({'longitudes':longitudes,\n",
    "                        'latitudes':latitudes})\n",
    "\n",
    "points_kml = simplekml.Kml()\n",
    "for i in locations.itertuples():\n",
    "    # Create points\n",
    "    pt = points_kml.newpoint(coords=[(i.longitudes, i.latitudes)], description = (\"The coordinates is\", i.latitudes, i.longitudes))\n",
    "    \n",
    "    # Change the icon to boat\n",
    "    pt.style.iconstyle.icon.href = 'http://maps.google.com/mapfiles/kml/shapes/sailing.png'\n",
    "    \n",
    "    # Sets the color to green\n",
    "#     pt.style.iconstyle.color ='#00ff00' \n",
    "\n",
    "# Save the KML    \n",
    "points_kml_path = 'Modified_AIS_ver2.kml'\n",
    "points_kml.save(points_kml_path)\n",
    "\n",
    "# Open in google earth\n",
    "# subprocess.call(['open', points_kml_path])"
   ]
  },
  {
   "cell_type": "code",
   "execution_count": null,
   "id": "d17f9795",
   "metadata": {},
   "outputs": [],
   "source": []
  }
 ],
 "metadata": {
  "kernelspec": {
   "display_name": "Python 3 (ipykernel)",
   "language": "python",
   "name": "python3"
  },
  "language_info": {
   "codemirror_mode": {
    "name": "ipython",
    "version": 3
   },
   "file_extension": ".py",
   "mimetype": "text/x-python",
   "name": "python",
   "nbconvert_exporter": "python",
   "pygments_lexer": "ipython3",
   "version": "3.9.12"
  }
 },
 "nbformat": 4,
 "nbformat_minor": 5
}
