{
 "cells": [
  {
   "cell_type": "markdown",
   "id": "16988924",
   "metadata": {},
   "source": [
    "# KML to CSV Converter"
   ]
  },
  {
   "cell_type": "markdown",
   "id": "c22a5679",
   "metadata": {},
   "source": [
    "Since the result in matlab algoritm is kml file, this jupyter notebook converts the kml into csv which will then be use to analyze the precision between matlab algorithm and ais data. The ouput of this file is csv. "
   ]
  },
  {
   "cell_type": "code",
   "execution_count": 67,
   "id": "df59be6a",
   "metadata": {},
   "outputs": [
    {
     "name": "stdout",
     "output_type": "stream",
     "text": [
      "name counter = 347\n",
      "coords counter = 348\n",
      "descriptions counter = 348\n"
     ]
    }
   ],
   "source": [
    "from bs4 import BeautifulSoup\n",
    "import csv\n",
    "import pandas as pd\n",
    "\n",
    "infile = 'VBD_Main_v5.kml'\n",
    "outfile = 'output2.csv'\n",
    "def main():\n",
    "    \"\"\"\n",
    "    Open the KML. Read the KML. Make 3 lists for Name, Coordinates and Description of the placemarks. Save the data to a CSV\n",
    "    \"\"\"\n",
    "    name_counter = 0\n",
    "    names_list = []\n",
    "    coords_counter = 0\n",
    "    coords_list = []\n",
    "    desc_counter = 0\n",
    "    desc_list = []\n",
    "    Lat_list =[]\n",
    "    Lat_counter = 0\n",
    "    Lon_lits = []\n",
    "    Lon_counter = 0\n",
    "    \n",
    "    with open(infile, 'r') as f:\n",
    "        s = BeautifulSoup(f, 'xml')\n",
    "\n",
    "        for names in s.find_all('name'):                #google earth nomenclature. Should read the KML file to see the relevant names we require\n",
    "            names_list.append(names.string)\n",
    "        names_list = names_list[2:]       #only keep names of placemarks\n",
    "        name_counter = len(names_list)\n",
    "\n",
    "        for coords in s.find_all('coordinates'):\n",
    "            coords_list.append(coords.string)\n",
    "            coords_list = [string.replace(',9','') for string in coords_list] #here i am manually removing the altitude from coords. Not the best way\n",
    "                \n",
    "                \n",
    "        \n",
    "        coords_counter = len(coords_list)   \n",
    "#             row = []\n",
    "            \n",
    "#             for split in space_splits[1:]:\n",
    "#                 # Note: because of the space between <coordinates>\" \"-80.123, we slice [1:]\n",
    "#                 comma_split = split.split(',')\n",
    "#                 # lattitude\n",
    "#                 row.append(comma_split[1])\n",
    "                \n",
    "#                 # longitude\n",
    "#                 row.append(comma_split[0])\n",
    "        \n",
    "\n",
    "        for descriptions in s.find_all('description'):\n",
    "            desc_list.append(descriptions.string)\n",
    "        desc_counter = len(desc_list)\n",
    "\n",
    "    print(f'name counter = {name_counter}')         #just for testing, all counters should be equal\n",
    "    print(f'coords counter = {coords_counter}')\n",
    "    print(f'descriptions counter = {desc_counter}')\n",
    "\n",
    "\n",
    "    with open(outfile, 'w') as file:\n",
    "        csv_writer = csv.writer(file)\n",
    "        csv_writer.writerow(['Name', 'Coordinates', 'Description'])\n",
    "        for counter in range(0, name_counter):\n",
    "            csv_writer.writerow(\n",
    "                [names_list[counter], coords_list[counter], desc_list[counter]])\n",
    "\n",
    "\n",
    "if __name__ == \"__main__\":\n",
    "    main()"
   ]
  },
  {
   "cell_type": "code",
   "execution_count": 68,
   "id": "9c2f710b",
   "metadata": {},
   "outputs": [
    {
     "name": "stdout",
     "output_type": "stream",
     "text": [
      "          Name                           Coordinates        Description\n",
      "0      Point 2   -97.6230392456055,27.292366027832,0   27.2924, -97.623\n",
      "1      Point 3  -97.5028991699219,26.9769592285156,0   26.977, -97.5029\n",
      "2      Point 4   -97.390266418457,26.5498123168945,0  26.5498, -97.3903\n",
      "3      Point 5  -97.1470947265625,27.8271198272705,0  27.8271, -97.1471\n",
      "4      Point 6  -97.0928039550781,27.7422370910645,0  27.7422, -97.0928\n",
      "..         ...                                   ...                ...\n",
      "342  Point 344  -82.6549911499023,27.6189270019531,0   27.6189, -82.655\n",
      "343  Point 345  -82.4442138671875,27.9183731079102,0  27.9184, -82.4442\n",
      "344  Point 346  -82.3561248779297,26.9149971008301,0   26.915, -82.3561\n",
      "345  Point 347  -82.1994247436523,26.5505237579346,0  26.5505, -82.1994\n",
      "346  Point 348   -82.187873840332,26.4940299987793,0   26.494, -82.1879\n",
      "\n",
      "[347 rows x 3 columns]\n"
     ]
    }
   ],
   "source": [
    "#import libraries\n",
    "import pandas as pd\n",
    "outfile = 'output2.csv'\n",
    "df = pd.read_csv(outfile)\n",
    "print (df)"
   ]
  },
  {
   "cell_type": "markdown",
   "id": "3ab11278",
   "metadata": {},
   "source": [
    "# Splitting Coordinates"
   ]
  },
  {
   "cell_type": "code",
   "execution_count": 69,
   "id": "13ee68a1",
   "metadata": {},
   "outputs": [
    {
     "name": "stdout",
     "output_type": "stream",
     "text": [
      "          Name                           Coordinates        Description  \\\n",
      "0      Point 2   -97.6230392456055,27.292366027832,0   27.2924, -97.623   \n",
      "1      Point 3  -97.5028991699219,26.9769592285156,0   26.977, -97.5029   \n",
      "2      Point 4   -97.390266418457,26.5498123168945,0  26.5498, -97.3903   \n",
      "3      Point 5  -97.1470947265625,27.8271198272705,0  27.8271, -97.1471   \n",
      "4      Point 6  -97.0928039550781,27.7422370910645,0  27.7422, -97.0928   \n",
      "..         ...                                   ...                ...   \n",
      "342  Point 344  -82.6549911499023,27.6189270019531,0   27.6189, -82.655   \n",
      "343  Point 345  -82.4442138671875,27.9183731079102,0  27.9184, -82.4442   \n",
      "344  Point 346  -82.3561248779297,26.9149971008301,0   26.915, -82.3561   \n",
      "345  Point 347  -82.1994247436523,26.5505237579346,0  26.5505, -82.1994   \n",
      "346  Point 348   -82.187873840332,26.4940299987793,0   26.494, -82.1879   \n",
      "\n",
      "                   Lon               Lat Altitude  \n",
      "0    -97.6230392456055   27.292366027832        0  \n",
      "1    -97.5028991699219  26.9769592285156        0  \n",
      "2     -97.390266418457  26.5498123168945        0  \n",
      "3    -97.1470947265625  27.8271198272705        0  \n",
      "4    -97.0928039550781  27.7422370910645        0  \n",
      "..                 ...               ...      ...  \n",
      "342  -82.6549911499023  27.6189270019531        0  \n",
      "343  -82.4442138671875  27.9183731079102        0  \n",
      "344  -82.3561248779297  26.9149971008301        0  \n",
      "345  -82.1994247436523  26.5505237579346        0  \n",
      "346   -82.187873840332  26.4940299987793        0  \n",
      "\n",
      "[347 rows x 6 columns]\n"
     ]
    }
   ],
   "source": [
    "df[['Lon','Lat', 'Altitude']] = df['Coordinates'].str.split(',', expand=True)\n",
    "print (df)"
   ]
  },
  {
   "cell_type": "markdown",
   "id": "e136ca89",
   "metadata": {},
   "source": [
    "# Removing uneeded columns"
   ]
  },
  {
   "cell_type": "code",
   "execution_count": 70,
   "id": "623429d7",
   "metadata": {},
   "outputs": [
    {
     "name": "stdout",
     "output_type": "stream",
     "text": [
      "           Description                Lon               Lat\n",
      "0     27.2924, -97.623  -97.6230392456055   27.292366027832\n",
      "1     26.977, -97.5029  -97.5028991699219  26.9769592285156\n",
      "2    26.5498, -97.3903   -97.390266418457  26.5498123168945\n",
      "3    27.8271, -97.1471  -97.1470947265625  27.8271198272705\n",
      "4    27.7422, -97.0928  -97.0928039550781  27.7422370910645\n",
      "..                 ...                ...               ...\n",
      "342   27.6189, -82.655  -82.6549911499023  27.6189270019531\n",
      "343  27.9184, -82.4442  -82.4442138671875  27.9183731079102\n",
      "344   26.915, -82.3561  -82.3561248779297  26.9149971008301\n",
      "345  26.5505, -82.1994  -82.1994247436523  26.5505237579346\n",
      "346   26.494, -82.1879   -82.187873840332  26.4940299987793\n",
      "\n",
      "[347 rows x 3 columns]\n"
     ]
    }
   ],
   "source": [
    "new_df = df.drop (columns = ['Name','Coordinates', 'Altitude'])\n",
    "print (new_df)"
   ]
  },
  {
   "cell_type": "markdown",
   "id": "1614b6a5",
   "metadata": {},
   "source": [
    "# Saving the modified CSV"
   ]
  },
  {
   "cell_type": "code",
   "execution_count": 72,
   "id": "a981d103",
   "metadata": {},
   "outputs": [
    {
     "name": "stdout",
     "output_type": "stream",
     "text": [
      "           Description                Lon               Lat\n",
      "0     27.2924, -97.623  -97.6230392456055   27.292366027832\n",
      "1     26.977, -97.5029  -97.5028991699219  26.9769592285156\n",
      "2    26.5498, -97.3903   -97.390266418457  26.5498123168945\n",
      "3    27.8271, -97.1471  -97.1470947265625  27.8271198272705\n",
      "4    27.7422, -97.0928  -97.0928039550781  27.7422370910645\n",
      "..                 ...                ...               ...\n",
      "342   27.6189, -82.655  -82.6549911499023  27.6189270019531\n",
      "343  27.9184, -82.4442  -82.4442138671875  27.9183731079102\n",
      "344   26.915, -82.3561  -82.3561248779297  26.9149971008301\n",
      "345  26.5505, -82.1994  -82.1994247436523  26.5505237579346\n",
      "346   26.494, -82.1879   -82.187873840332  26.4940299987793\n",
      "\n",
      "[347 rows x 3 columns]\n"
     ]
    }
   ],
   "source": [
    "# Don't include the indeces\n",
    "newfile = 'Matlab_algo.csv'\n",
    "new_df.to_csv(newfile, index=False)\n",
    "\n",
    "print(new_df)"
   ]
  },
  {
   "cell_type": "markdown",
   "id": "46a42967",
   "metadata": {},
   "source": [
    "# Saving the new kml"
   ]
  },
  {
   "cell_type": "code",
   "execution_count": 74,
   "id": "8f1bb2aa",
   "metadata": {},
   "outputs": [],
   "source": [
    "import pandas as pd\n",
    "import  simplekml\n",
    "\n",
    "new_df = pd.read_csv(newfile)\n",
    "\n",
    "# names = ais_new['VesselName']\n",
    "longitudes = new_df['Lon']\n",
    "latitudes = new_df['Lat']\n",
    "\n",
    "locations = pd.DataFrame({'longitudes':longitudes,\n",
    "                        'latitudes':latitudes})\n",
    "\n",
    "points_kml = simplekml.Kml()\n",
    "for i in locations.itertuples():\n",
    "    # Create points\n",
    "    pt = points_kml.newpoint(coords=[(i.longitudes, i.latitudes)], description = (\"The coordinates is\", i.latitudes, i.longitudes))\n",
    "    \n",
    "    # Change the icon to boat\n",
    "    pt.style.iconstyle.icon.href = 'http://maps.google.com/mapfiles/kml/shapes/sailing.png'\n",
    "    \n",
    "    # Sets the color to green\n",
    "#     pt.style.iconstyle.color ='#00ff00' \n",
    "\n",
    "# Save the KML    \n",
    "points_kml_path = 'MatlabAlgo_NoName.kml'\n",
    "points_kml.save(points_kml_path)\n",
    "\n",
    "# Open in google earth\n",
    "# subprocess.call(['open', points_kml_path])"
   ]
  },
  {
   "cell_type": "code",
   "execution_count": null,
   "id": "bc9ce17c",
   "metadata": {},
   "outputs": [],
   "source": []
  }
 ],
 "metadata": {
  "kernelspec": {
   "display_name": "Python 3 (ipykernel)",
   "language": "python",
   "name": "python3"
  },
  "language_info": {
   "codemirror_mode": {
    "name": "ipython",
    "version": 3
   },
   "file_extension": ".py",
   "mimetype": "text/x-python",
   "name": "python",
   "nbconvert_exporter": "python",
   "pygments_lexer": "ipython3",
   "version": "3.9.12"
  }
 },
 "nbformat": 4,
 "nbformat_minor": 5
}
