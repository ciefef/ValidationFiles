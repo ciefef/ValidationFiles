{
 "cells": [
  {
   "cell_type": "markdown",
   "id": "3c8efb54",
   "metadata": {},
   "source": [
    "# Precision Analysis"
   ]
  },
  {
   "cell_type": "markdown",
   "id": "eaf450c3",
   "metadata": {},
   "source": [
    "This file computes the true positive and false positive in Matlab algoritm and AIS data by comparing the coordinates of both data in a specific row."
   ]
  },
  {
   "cell_type": "code",
   "execution_count": 1,
   "id": "febf073d",
   "metadata": {},
   "outputs": [
    {
     "name": "stdout",
     "output_type": "stream",
     "text": [
      "           Description        Lon        Lat\n",
      "0     27.2924, -97.623 -97.623039  27.292366\n",
      "1     26.977, -97.5029 -97.502899  26.976959\n",
      "2    26.5498, -97.3903 -97.390266  26.549812\n",
      "3    27.8271, -97.1471 -97.147095  27.827120\n",
      "4    27.7422, -97.0928 -97.092804  27.742237\n",
      "..                 ...        ...        ...\n",
      "342   27.6189, -82.655 -82.654991  27.618927\n",
      "343  27.9184, -82.4442 -82.444214  27.918373\n",
      "344   26.915, -82.3561 -82.356125  26.914997\n",
      "345  26.5505, -82.1994 -82.199425  26.550524\n",
      "346   26.494, -82.1879 -82.187874  26.494030\n",
      "\n",
      "[347 rows x 3 columns]\n",
      "          MMSI         BaseDateTime       LAT       LON          VesselName  \\\n",
      "0    367682480  2022-05-30T00:12:00  29.31612 -89.08567          ERIC HUYNH   \n",
      "1    367471780  2022-05-30T00:12:00  29.34629 -89.11212      PRINCESS KELLY   \n",
      "2    367792030  2022-05-30T00:12:00  30.37990 -88.56173           SEA HORSE   \n",
      "3    368188790  2022-05-30T00:12:01  29.68500 -90.09985     SOUTHERN NIGHTS   \n",
      "4    367778650  2022-05-30T00:12:02  29.30730 -93.48208  ELMIRA PFLUECKHAHN   \n",
      "..         ...                  ...       ...       ...                 ...   \n",
      "868  367735690  2022-05-30T00:18:57  29.00136 -91.69326          FRANCIS VU   \n",
      "869  368088160  2022-05-30T00:18:57  29.28593 -91.93512           AIDEN BOY   \n",
      "870  367718320  2022-05-30T00:18:58  28.98955 -91.74244            AM WHALE   \n",
      "871  367454140  2022-05-30T00:18:58  29.75477 -93.45546          MASTER HAI   \n",
      "872  366986160  2022-05-30T00:18:59  29.79009 -92.14251            Q O DUNN   \n",
      "\n",
      "            IMO CallSign  VesselType  \n",
      "0    IMO8961286  WDI2859        30.0  \n",
      "1    IMO8969965  WDF6207        30.0  \n",
      "2    IMO8854902  WDJ5867        30.0  \n",
      "3           NaN  WDM2507        30.0  \n",
      "4    IMO7230783  WDJ4538        30.0  \n",
      "..          ...      ...         ...  \n",
      "868  IMO8981975  WDI8145        30.0  \n",
      "869         NaN  WDK7822        30.0  \n",
      "870  IMO8983571  WDI6400        30.0  \n",
      "871  IMO8939477  WDF4637        30.0  \n",
      "872  IMO7308023   WX9279        30.0  \n",
      "\n",
      "[873 rows x 8 columns]\n"
     ]
    }
   ],
   "source": [
    "# Import libraries\n",
    "import pandas as pd\n",
    "\n",
    "# Importing csv files \n",
    "dep_csv = 'Matlab_algo.csv'\n",
    "ref_csv = 'Modified_AIS_VT.csv'\n",
    "outfile = 'Precision-Analysis.csv'\n",
    "dep = pd.read_csv(dep_csv)\n",
    "ref = pd.read_csv(ref_csv)\n",
    "\n",
    "print (dep)\n",
    "print (ref)"
   ]
  },
  {
   "cell_type": "markdown",
   "id": "00146386",
   "metadata": {},
   "source": [
    "# Sorting the csv files"
   ]
  },
  {
   "cell_type": "code",
   "execution_count": 2,
   "id": "e1a51838",
   "metadata": {},
   "outputs": [
    {
     "name": "stdout",
     "output_type": "stream",
     "text": [
      "           Description        Lon        Lat\n",
      "0     27.2924, -97.623 -97.623039  27.292366\n",
      "1     26.977, -97.5029 -97.502899  26.976959\n",
      "2    26.5498, -97.3903 -97.390266  26.549812\n",
      "3    27.8271, -97.1471 -97.147095  27.827120\n",
      "4    27.7422, -97.0928 -97.092804  27.742237\n",
      "..                 ...        ...        ...\n",
      "342   27.6189, -82.655 -82.654991  27.618927\n",
      "343  27.9184, -82.4442 -82.444214  27.918373\n",
      "344   26.915, -82.3561 -82.356125  26.914997\n",
      "345  26.5505, -82.1994 -82.199425  26.550524\n",
      "346   26.494, -82.1879 -82.187874  26.494030\n",
      "\n",
      "[347 rows x 3 columns]\n",
      "          MMSI         BaseDateTime       LAT       LON          VesselName  \\\n",
      "0    367682480  2022-05-30T00:12:00  29.31612 -89.08567          ERIC HUYNH   \n",
      "1    367471780  2022-05-30T00:12:00  29.34629 -89.11212      PRINCESS KELLY   \n",
      "2    367792030  2022-05-30T00:12:00  30.37990 -88.56173           SEA HORSE   \n",
      "3    368188790  2022-05-30T00:12:01  29.68500 -90.09985     SOUTHERN NIGHTS   \n",
      "4    367778650  2022-05-30T00:12:02  29.30730 -93.48208  ELMIRA PFLUECKHAHN   \n",
      "..         ...                  ...       ...       ...                 ...   \n",
      "868  367735690  2022-05-30T00:18:57  29.00136 -91.69326          FRANCIS VU   \n",
      "869  368088160  2022-05-30T00:18:57  29.28593 -91.93512           AIDEN BOY   \n",
      "870  367718320  2022-05-30T00:18:58  28.98955 -91.74244            AM WHALE   \n",
      "871  367454140  2022-05-30T00:18:58  29.75477 -93.45546          MASTER HAI   \n",
      "872  366986160  2022-05-30T00:18:59  29.79009 -92.14251            Q O DUNN   \n",
      "\n",
      "            IMO CallSign  VesselType  \n",
      "0    IMO8961286  WDI2859        30.0  \n",
      "1    IMO8969965  WDF6207        30.0  \n",
      "2    IMO8854902  WDJ5867        30.0  \n",
      "3           NaN  WDM2507        30.0  \n",
      "4    IMO7230783  WDJ4538        30.0  \n",
      "..          ...      ...         ...  \n",
      "868  IMO8981975  WDI8145        30.0  \n",
      "869         NaN  WDK7822        30.0  \n",
      "870  IMO8983571  WDI6400        30.0  \n",
      "871  IMO8939477  WDF4637        30.0  \n",
      "872  IMO7308023   WX9279        30.0  \n",
      "\n",
      "[873 rows x 8 columns]\n"
     ]
    }
   ],
   "source": [
    "# Sorting the csv files based on latitude and longitude\n",
    "dep.sort_values('Lat', ascending = True)\n",
    "ref.sort_values ('LAT', ascending = True)\n",
    "\n",
    "print (dep)\n",
    "print (ref)"
   ]
  },
  {
   "cell_type": "markdown",
   "id": "1d3b5847",
   "metadata": {},
   "source": [
    "# Creating new csv to store the analyzation"
   ]
  },
  {
   "cell_type": "code",
   "execution_count": 3,
   "id": "d21ad824",
   "metadata": {},
   "outputs": [
    {
     "name": "stdout",
     "output_type": "stream",
     "text": [
      "           Description        Lon        Lat       MMSI         BaseDateTime  \\\n",
      "0     27.2924, -97.623 -97.623039  27.292366  367682480  2022-05-30T00:12:00   \n",
      "1     26.977, -97.5029 -97.502899  26.976959  367471780  2022-05-30T00:12:00   \n",
      "2    26.5498, -97.3903 -97.390266  26.549812  367792030  2022-05-30T00:12:00   \n",
      "3    27.8271, -97.1471 -97.147095  27.827120  368188790  2022-05-30T00:12:01   \n",
      "4    27.7422, -97.0928 -97.092804  27.742237  367778650  2022-05-30T00:12:02   \n",
      "..                 ...        ...        ...        ...                  ...   \n",
      "868                NaN        NaN        NaN  367735690  2022-05-30T00:18:57   \n",
      "869                NaN        NaN        NaN  368088160  2022-05-30T00:18:57   \n",
      "870                NaN        NaN        NaN  367718320  2022-05-30T00:18:58   \n",
      "871                NaN        NaN        NaN  367454140  2022-05-30T00:18:58   \n",
      "872                NaN        NaN        NaN  366986160  2022-05-30T00:18:59   \n",
      "\n",
      "          LAT       LON          VesselName         IMO CallSign  VesselType  \n",
      "0    29.31612 -89.08567          ERIC HUYNH  IMO8961286  WDI2859        30.0  \n",
      "1    29.34629 -89.11212      PRINCESS KELLY  IMO8969965  WDF6207        30.0  \n",
      "2    30.37990 -88.56173           SEA HORSE  IMO8854902  WDJ5867        30.0  \n",
      "3    29.68500 -90.09985     SOUTHERN NIGHTS         NaN  WDM2507        30.0  \n",
      "4    29.30730 -93.48208  ELMIRA PFLUECKHAHN  IMO7230783  WDJ4538        30.0  \n",
      "..        ...       ...                 ...         ...      ...         ...  \n",
      "868  29.00136 -91.69326          FRANCIS VU  IMO8981975  WDI8145        30.0  \n",
      "869  29.28593 -91.93512           AIDEN BOY         NaN  WDK7822        30.0  \n",
      "870  28.98955 -91.74244            AM WHALE  IMO8983571  WDI6400        30.0  \n",
      "871  29.75477 -93.45546          MASTER HAI  IMO8939477  WDF4637        30.0  \n",
      "872  29.79009 -92.14251            Q O DUNN  IMO7308023   WX9279        30.0  \n",
      "\n",
      "[873 rows x 11 columns]\n"
     ]
    }
   ],
   "source": [
    "dep_cols = list(dep.columns.values)\n",
    "ref_cols = list (ref.columns.values)\n",
    "# # ais_new = ais[cols[0:4] + cols [7:10] +[cols [-1]]]\n",
    "# # pa = matlab['Lat', 'Lon'] + ais['BaseDateTime','LAT', 'LON', 'VesselName', 'Vessel']\n",
    "# # pa = matlab['Lat', 'Lon']\n",
    "# pa =  ais[['BaseDateTime','LAT', 'LON', 'VesselName', 'VesselType']]\n",
    "# pa ['Lat', 'Lon'] = matlab[['Lat', 'Lon']]\n",
    "\n",
    "pa = pd.concat([dep, ref], axis=1) \n",
    "\n",
    "print (pa)"
   ]
  },
  {
   "cell_type": "markdown",
   "id": "89ba0894",
   "metadata": {},
   "source": [
    "# Comparing the latitudes and longitudes"
   ]
  },
  {
   "cell_type": "code",
   "execution_count": 4,
   "id": "57c38ca6",
   "metadata": {},
   "outputs": [
    {
     "name": "stdout",
     "output_type": "stream",
     "text": [
      "           Description        Lon        Lat       MMSI         BaseDateTime  \\\n",
      "0     27.2924, -97.623 -97.623039  27.292366  367682480  2022-05-30T00:12:00   \n",
      "1     26.977, -97.5029 -97.502899  26.976959  367471780  2022-05-30T00:12:00   \n",
      "2    26.5498, -97.3903 -97.390266  26.549812  367792030  2022-05-30T00:12:00   \n",
      "3    27.8271, -97.1471 -97.147095  27.827120  368188790  2022-05-30T00:12:01   \n",
      "4    27.7422, -97.0928 -97.092804  27.742237  367778650  2022-05-30T00:12:02   \n",
      "..                 ...        ...        ...        ...                  ...   \n",
      "868                NaN        NaN        NaN  367735690  2022-05-30T00:18:57   \n",
      "869                NaN        NaN        NaN  368088160  2022-05-30T00:18:57   \n",
      "870                NaN        NaN        NaN  367718320  2022-05-30T00:18:58   \n",
      "871                NaN        NaN        NaN  367454140  2022-05-30T00:18:58   \n",
      "872                NaN        NaN        NaN  366986160  2022-05-30T00:18:59   \n",
      "\n",
      "          LAT       LON          VesselName         IMO CallSign  VesselType  \\\n",
      "0    29.31612 -89.08567          ERIC HUYNH  IMO8961286  WDI2859        30.0   \n",
      "1    29.34629 -89.11212      PRINCESS KELLY  IMO8969965  WDF6207        30.0   \n",
      "2    30.37990 -88.56173           SEA HORSE  IMO8854902  WDJ5867        30.0   \n",
      "3    29.68500 -90.09985     SOUTHERN NIGHTS         NaN  WDM2507        30.0   \n",
      "4    29.30730 -93.48208  ELMIRA PFLUECKHAHN  IMO7230783  WDJ4538        30.0   \n",
      "..        ...       ...                 ...         ...      ...         ...   \n",
      "868  29.00136 -91.69326          FRANCIS VU  IMO8981975  WDI8145        30.0   \n",
      "869  29.28593 -91.93512           AIDEN BOY         NaN  WDK7822        30.0   \n",
      "870  28.98955 -91.74244            AM WHALE  IMO8983571  WDI6400        30.0   \n",
      "871  29.75477 -93.45546          MASTER HAI  IMO8939477  WDF4637        30.0   \n",
      "872  29.79009 -92.14251            Q O DUNN  IMO7308023   WX9279        30.0   \n",
      "\n",
      "      LATminT   LATmaxT   LONminT   LONmaxT  LATminT_match LATmaxT_match  \\\n",
      "0    29.30612  29.32612 -89.09567 -89.07567        10000.0         False   \n",
      "1    29.33629  29.35629 -89.12212 -89.10212        10000.0         False   \n",
      "2    30.36990  30.38990 -88.57173 -88.55173        10000.0         False   \n",
      "3    29.67500  29.69500 -90.10985 -90.08985        10000.0         False   \n",
      "4    29.29730  29.31730 -93.49208 -93.47208        10000.0         False   \n",
      "..        ...       ...       ...       ...            ...           ...   \n",
      "868  28.99136  29.01136 -91.70326 -91.68326        10000.0         False   \n",
      "869  29.27593  29.29593 -91.94512 -91.92512        10000.0         False   \n",
      "870  28.97955  28.99955 -91.75244 -91.73244        10000.0         False   \n",
      "871  29.74477  29.76477 -93.46546 -93.44546        10000.0         False   \n",
      "872  29.78009  29.80009 -92.15251 -92.13251        10000.0         False   \n",
      "\n",
      "     LONminT_match LONmaxT_match  \n",
      "0          10000.0         False  \n",
      "1          10000.0         False  \n",
      "2          10000.0         False  \n",
      "3          10000.0         False  \n",
      "4          10000.0         False  \n",
      "..             ...           ...  \n",
      "868        10000.0         False  \n",
      "869        10000.0         False  \n",
      "870        10000.0         False  \n",
      "871        10000.0         False  \n",
      "872        10000.0         False  \n",
      "\n",
      "[873 rows x 19 columns]\n"
     ]
    }
   ],
   "source": [
    "import pandas as pd\n",
    "import numpy as np\n",
    "\n",
    "# pa['Lat_match'] = np.where(pa['Lat'] == pa['LAT'], 'True', 'False')\n",
    "# pa['Lon_match'] = np.where(pa['Lon'] == pa['LON'], 'True', 'False')\n",
    "\n",
    "\n",
    "# Assigning Tolerance\n",
    "tolerance = 0.01\n",
    "\n",
    "# Latitudes and Longitudes\n",
    "pa ['LATminT'] = pa['LAT'] - tolerance\n",
    "pa ['LATmaxT'] = pa['LAT'] + tolerance\n",
    "pa ['LONminT'] = pa['LON'] - tolerance\n",
    "pa ['LONmaxT'] = pa['LON'] + tolerance\n",
    "\n",
    "# New columns \n",
    "pa['LATminT_match'] = np.where(pa['Lat'] > pa ['LATminT'], pa['Lat'], 10000)\n",
    "pa['LATmaxT_match'] = np.where(pa['LATminT_match'] < pa ['LATmaxT'], 'True', 'False')\n",
    "pa['LONminT_match'] = np.where(pa['Lon'] > pa ['LONminT'], pa['Lon'], 10000)\n",
    "pa['LONmaxT_match'] = np.where(pa['LONminT_match'] < pa ['LONmaxT'], 'True', 'False')\n",
    "\n",
    "print (pa)"
   ]
  },
  {
   "cell_type": "markdown",
   "id": "290788c1",
   "metadata": {},
   "source": [
    "# Displaying True Positive (Matched coordinates)"
   ]
  },
  {
   "cell_type": "code",
   "execution_count": 5,
   "id": "f440b818",
   "metadata": {},
   "outputs": [
    {
     "name": "stdout",
     "output_type": "stream",
     "text": [
      "Latitude TP: 6\n",
      "Longitude TP 0\n",
      "Both latitude and longitude TP: 0\n"
     ]
    }
   ],
   "source": [
    "# Checking only Latitude\n",
    "pa_LATmatch = pa.loc [pa['LATmaxT_match'] == 'True']\n",
    "\n",
    "# Checking only longitude\n",
    "pa_Lonmatch = pa.loc [pa['LONmaxT_match'] == 'True']\n",
    "\n",
    "#  Checking both latitude and Longitude\n",
    "pa_Coormatch = pa.loc [(pa['LATmaxT_match'] == 'True') & (pa['LONmaxT_match'] == 'True')]\n",
    "\n",
    "# Printing the results\n",
    "print (\"Latitude TP:\", len(pa_LATmatch))\n",
    "print (\"Longitude TP\", len(pa_Lonmatch))\n",
    "print (\"Both latitude and longitude TP:\", len(pa_Coormatch))\n",
    "\n",
    "\n",
    "# # Checking only Latitude\n",
    "# pa_LATmatch = pa.loc [pa['Lat_match'] == 'True']\n",
    "\n",
    "# # Checking only longitude\n",
    "# pa_Lonmatch = pa.loc [pa['Lon_match'] == 'True']\n",
    "\n",
    "# #  Checking both latitude and Longitude\n",
    "# pa_Coormatch = pa.loc [(pa['Lat_match'] == 'True') & (pa['Lon_match'] == 'True')]\n",
    "\n",
    "# # Printing the results\n",
    "# print (\"Latitude TP:\", len(pa_LATmatch))\n",
    "# print (\"Longitude TP\", len(pa_Lonmatch))\n",
    "# print (\"Both latitude and longitude TP:\", len(pa_Coormatch))\n",
    "\n"
   ]
  },
  {
   "cell_type": "markdown",
   "id": "2231159c",
   "metadata": {},
   "source": [
    "# Checking for False Positive (unmatched)"
   ]
  },
  {
   "cell_type": "code",
   "execution_count": 6,
   "id": "b5547cbf",
   "metadata": {},
   "outputs": [
    {
     "name": "stdout",
     "output_type": "stream",
     "text": [
      "Latitude FP: 867\n",
      "Longitude FP 873\n",
      "Both latitude and longitude FP: 867\n"
     ]
    }
   ],
   "source": [
    "# Checking only Latitude\n",
    "pa_LATmatch = pa.loc [pa['LATmaxT_match'] == 'False']\n",
    "\n",
    "# Checking only longitude\n",
    "pa_Lonmatch = pa.loc [pa['LONmaxT_match'] == 'False']\n",
    "\n",
    "#  Checking both latitude and Longitude\n",
    "pa_Coormatch = pa.loc [(pa['LATmaxT_match'] == 'False') & (pa['LONmaxT_match'] == 'False')]\n",
    "\n",
    "# Printing the results\n",
    "print (\"Latitude FP:\", len(pa_LATmatch))\n",
    "print (\"Longitude FP\", len(pa_Lonmatch))\n",
    "print (\"Both latitude and longitude FP:\", len(pa_Coormatch))\n",
    "\n",
    "\n",
    "# # Checking only Latitude\n",
    "# pa_LATmatch = pa.loc [pa['Lat_match'] == 'False']\n",
    "\n",
    "# # Checking only longitude\n",
    "# pa_Lonmatch = pa.loc [pa['Lon_match'] == 'False']\n",
    "\n",
    "# #  Checking both latitude and Longitude\n",
    "# pa_Coormatch = pa.loc [(pa['Lat_match'] == 'False') & (pa['Lon_match'] == 'False')]\n",
    "\n",
    "# # Printing the results\n",
    "# print (\"Latitude TP:\", len(pa_LATmatch))\n",
    "# print (\"Longitude TP\", len(pa_Lonmatch))\n",
    "# print (\"Both latitude and longitude TP:\", len(pa_Coormatch))"
   ]
  },
  {
   "cell_type": "markdown",
   "id": "d0f81143",
   "metadata": {},
   "source": [
    "# Saving the new csv"
   ]
  },
  {
   "cell_type": "code",
   "execution_count": 7,
   "id": "523e737b",
   "metadata": {},
   "outputs": [
    {
     "name": "stdout",
     "output_type": "stream",
     "text": [
      "           Description        Lon        Lat       MMSI         BaseDateTime  \\\n",
      "0     27.2924, -97.623 -97.623039  27.292366  367682480  2022-05-30T00:12:00   \n",
      "1     26.977, -97.5029 -97.502899  26.976959  367471780  2022-05-30T00:12:00   \n",
      "2    26.5498, -97.3903 -97.390266  26.549812  367792030  2022-05-30T00:12:00   \n",
      "3    27.8271, -97.1471 -97.147095  27.827120  368188790  2022-05-30T00:12:01   \n",
      "4    27.7422, -97.0928 -97.092804  27.742237  367778650  2022-05-30T00:12:02   \n",
      "..                 ...        ...        ...        ...                  ...   \n",
      "868                NaN        NaN        NaN  367735690  2022-05-30T00:18:57   \n",
      "869                NaN        NaN        NaN  368088160  2022-05-30T00:18:57   \n",
      "870                NaN        NaN        NaN  367718320  2022-05-30T00:18:58   \n",
      "871                NaN        NaN        NaN  367454140  2022-05-30T00:18:58   \n",
      "872                NaN        NaN        NaN  366986160  2022-05-30T00:18:59   \n",
      "\n",
      "          LAT       LON          VesselName         IMO CallSign  VesselType  \\\n",
      "0    29.31612 -89.08567          ERIC HUYNH  IMO8961286  WDI2859        30.0   \n",
      "1    29.34629 -89.11212      PRINCESS KELLY  IMO8969965  WDF6207        30.0   \n",
      "2    30.37990 -88.56173           SEA HORSE  IMO8854902  WDJ5867        30.0   \n",
      "3    29.68500 -90.09985     SOUTHERN NIGHTS         NaN  WDM2507        30.0   \n",
      "4    29.30730 -93.48208  ELMIRA PFLUECKHAHN  IMO7230783  WDJ4538        30.0   \n",
      "..        ...       ...                 ...         ...      ...         ...   \n",
      "868  29.00136 -91.69326          FRANCIS VU  IMO8981975  WDI8145        30.0   \n",
      "869  29.28593 -91.93512           AIDEN BOY         NaN  WDK7822        30.0   \n",
      "870  28.98955 -91.74244            AM WHALE  IMO8983571  WDI6400        30.0   \n",
      "871  29.75477 -93.45546          MASTER HAI  IMO8939477  WDF4637        30.0   \n",
      "872  29.79009 -92.14251            Q O DUNN  IMO7308023   WX9279        30.0   \n",
      "\n",
      "      LATminT   LATmaxT   LONminT   LONmaxT  LATminT_match LATmaxT_match  \\\n",
      "0    29.30612  29.32612 -89.09567 -89.07567        10000.0         False   \n",
      "1    29.33629  29.35629 -89.12212 -89.10212        10000.0         False   \n",
      "2    30.36990  30.38990 -88.57173 -88.55173        10000.0         False   \n",
      "3    29.67500  29.69500 -90.10985 -90.08985        10000.0         False   \n",
      "4    29.29730  29.31730 -93.49208 -93.47208        10000.0         False   \n",
      "..        ...       ...       ...       ...            ...           ...   \n",
      "868  28.99136  29.01136 -91.70326 -91.68326        10000.0         False   \n",
      "869  29.27593  29.29593 -91.94512 -91.92512        10000.0         False   \n",
      "870  28.97955  28.99955 -91.75244 -91.73244        10000.0         False   \n",
      "871  29.74477  29.76477 -93.46546 -93.44546        10000.0         False   \n",
      "872  29.78009  29.80009 -92.15251 -92.13251        10000.0         False   \n",
      "\n",
      "     LONminT_match LONmaxT_match  \n",
      "0          10000.0         False  \n",
      "1          10000.0         False  \n",
      "2          10000.0         False  \n",
      "3          10000.0         False  \n",
      "4          10000.0         False  \n",
      "..             ...           ...  \n",
      "868        10000.0         False  \n",
      "869        10000.0         False  \n",
      "870        10000.0         False  \n",
      "871        10000.0         False  \n",
      "872        10000.0         False  \n",
      "\n",
      "[873 rows x 19 columns]\n"
     ]
    }
   ],
   "source": [
    "# Don't include the indeces\n",
    "newfile = 'PrecisionAnalysis.csv'\n",
    "pa.to_csv(newfile, index=False)\n",
    "\n",
    "print(pa)"
   ]
  },
  {
   "cell_type": "code",
   "execution_count": null,
   "id": "90182354",
   "metadata": {},
   "outputs": [],
   "source": []
  }
 ],
 "metadata": {
  "kernelspec": {
   "display_name": "Python 3 (ipykernel)",
   "language": "python",
   "name": "python3"
  },
  "language_info": {
   "codemirror_mode": {
    "name": "ipython",
    "version": 3
   },
   "file_extension": ".py",
   "mimetype": "text/x-python",
   "name": "python",
   "nbconvert_exporter": "python",
   "pygments_lexer": "ipython3",
   "version": "3.9.12"
  }
 },
 "nbformat": 4,
 "nbformat_minor": 5
}
